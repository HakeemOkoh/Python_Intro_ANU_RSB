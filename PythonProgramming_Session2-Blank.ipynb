{
 "cells": [
  {
   "cell_type": "markdown",
   "metadata": {},
   "source": [
    "# Python introduction - session 2\n",
    "## Loops and control statements & data structures\n",
    "\n",
    "If you get stuck in an endless loop hit the **\"STOP\" button (black square)** above or our good friend from bash, **ctrl+c**  \n",
    "You know you are stuck in a loop if you see **In \\[\\*\\]:** forever"
   ]
  },
  {
   "cell_type": "markdown",
   "metadata": {},
   "source": [
    "## Indexing\n",
    "Each position in this string has an \"index\"\n",
    "\n",
    "Getting the data that you want from a string"
   ]
  },
  {
   "cell_type": "code",
   "execution_count": null,
   "metadata": {},
   "outputs": [],
   "source": [
    "DNAseq = 'atgtctaacattggccataccccgtatacccatgcgaaccatattggccattaa'"
   ]
  },
  {
   "cell_type": "markdown",
   "metadata": {},
   "source": [
    "Python is ZERO indexed, this means you always start counting at 0 not 1"
   ]
  },
  {
   "cell_type": "raw",
   "metadata": {},
   "source": [
    "atcgtgcgg\n",
    "012345678"
   ]
  },
  {
   "cell_type": "markdown",
   "metadata": {},
   "source": [
    "**We use square brackets to divide a string up by index positions**\n",
    "\n",
    "The first index is INCLUSIVE\n",
    "The second index is EXCLUSIVE"
   ]
  },
  {
   "cell_type": "code",
   "execution_count": null,
   "metadata": {},
   "outputs": [],
   "source": []
  },
  {
   "cell_type": "markdown",
   "metadata": {},
   "source": [
    "**Slice farom the beginning to a set end index positon**"
   ]
  },
  {
   "cell_type": "markdown",
   "metadata": {},
   "source": [
    "This is called \"Slicing\", where we access parts of our string using their index, rather than their "
   ]
  },
  {
   "cell_type": "code",
   "execution_count": null,
   "metadata": {},
   "outputs": [],
   "source": []
  },
  {
   "cell_type": "markdown",
   "metadata": {},
   "source": [
    "**Slice from a set index position to the end of the string object, no matter how long it is**"
   ]
  },
  {
   "cell_type": "code",
   "execution_count": null,
   "metadata": {},
   "outputs": [],
   "source": []
  },
  {
   "cell_type": "code",
   "execution_count": null,
   "metadata": {},
   "outputs": [],
   "source": []
  },
  {
   "cell_type": "markdown",
   "metadata": {},
   "source": [
    "## Loops\n",
    "\n",
    "Computing is mostly about doing the same thing again and again in an automated fashion.\n",
    "\n",
    "An example task that we might want to repeat is printing each character in a word or DNA sequence on a line of its own. One way to do this would be to use a series of print statements:"
   ]
  },
  {
   "cell_type": "code",
   "execution_count": null,
   "metadata": {},
   "outputs": [],
   "source": [
    "DNAseq = 'atgtctaacattggccataccccgtatacccatgcgaaccatattggccattaa'\n"
   ]
  },
  {
   "cell_type": "markdown",
   "metadata": {},
   "source": [
    "Now you might want to repeat this for another word and you copy & paste your existing code.\n",
    "\n",
    "But that’s a bad approach for two reasons:\n",
    "\n",
    "1. It doesn't scale, imagine wanting to print the characters in a string that is hundreds of letters long.\n",
    "\n",
    "2. It is fragile: if we give it a longer string, it only prints part of the data, and if we give it a shorter one, it produces an error because we’re asking for characters that don't exist.\n"
   ]
  },
  {
   "cell_type": "code",
   "execution_count": null,
   "metadata": {},
   "outputs": [],
   "source": [
    "DNAseq2 = 'ccgtatacccatgcgaacatggcgaaagaaagctttgcgagcacctaa'\n"
   ]
  },
  {
   "cell_type": "code",
   "execution_count": null,
   "metadata": {},
   "outputs": [],
   "source": [
    "DNAseq3 = 'ccgt'\n"
   ]
  },
  {
   "cell_type": "markdown",
   "metadata": {},
   "source": [
    "A better approach is to use **for loops** in Python."
   ]
  },
  {
   "cell_type": "code",
   "execution_count": null,
   "metadata": {},
   "outputs": [],
   "source": []
  },
  {
   "cell_type": "code",
   "execution_count": null,
   "metadata": {},
   "outputs": [],
   "source": []
  },
  {
   "cell_type": "code",
   "execution_count": null,
   "metadata": {},
   "outputs": [],
   "source": []
  },
  {
   "cell_type": "markdown",
   "metadata": {},
   "source": [
    "##### In Python, a for loop is structured like this."
   ]
  },
  {
   "cell_type": "raw",
   "metadata": {},
   "source": [
    "for variable in collection:\n",
    "    work on variable"
   ]
  },
  {
   "cell_type": "markdown",
   "metadata": {},
   "source": [
    "We can call the loop variable anything we like, but there must be a **colon** at the end of the line starting the loop, and we must **indent** anything we want to run inside the loop. Unlike many other languages, there is no command to start/end a loop (e.g. do/done in **bash**); what is indented after the for statement belongs to the loop.\n",
    "\n",
    "**Indentation errors are THE MOST COMMON MISTAKE made when writing loops**  \n",
    "In this course I will exclusivly use the \"tab\" key to make my indents.  \n",
    "I find it best to slowly build my loop and use the print(function) a lot, to show myself that it is working correctly.  \n"
   ]
  },
  {
   "cell_type": "markdown",
   "metadata": {},
   "source": [
    "### Remember from yesterday our variable x"
   ]
  },
  {
   "cell_type": "code",
   "execution_count": 1,
   "metadata": {},
   "outputs": [],
   "source": [
    "x=5"
   ]
  },
  {
   "cell_type": "markdown",
   "metadata": {},
   "source": [
    "Say we want to increment x by 2 and assign it to the same variable, how do we do this?"
   ]
  },
  {
   "cell_type": "code",
   "execution_count": 2,
   "metadata": {},
   "outputs": [],
   "source": []
  },
  {
   "cell_type": "code",
   "execution_count": null,
   "metadata": {},
   "outputs": [],
   "source": []
  },
  {
   "cell_type": "markdown",
   "metadata": {},
   "source": [
    "### Exercise\n",
    "Write a loop that counts the number of bases in your DNA sequence (variable DNAseq)."
   ]
  },
  {
   "cell_type": "code",
   "execution_count": 4,
   "metadata": {},
   "outputs": [],
   "source": [
    "DNAseq = 'atgtctaacattggccataccccgtatacccatgcgaaccatattggccattaa'"
   ]
  },
  {
   "cell_type": "code",
   "execution_count": null,
   "metadata": {},
   "outputs": [],
   "source": [
    "## start a counter at 0\n",
    "number_of_bases = 0\n",
    "\n",
    "# Here goes a loop that iterates over DNAseq and counts the bases\n",
    "\n",
    "\n",
    "\n",
    "# print out the results of your loop counter\n",
    "print('There are', number_of_bases, 'bases in our DNAsequence.')"
   ]
  },
  {
   "cell_type": "markdown",
   "metadata": {},
   "source": [
    "### Solution"
   ]
  },
  {
   "cell_type": "code",
   "execution_count": null,
   "metadata": {},
   "outputs": [],
   "source": []
  },
  {
   "cell_type": "markdown",
   "metadata": {},
   "source": [
    "### Exercise\n",
    "\n",
    "Now make your final print statement print DNAseq. Notice that Python will print spaces between the variables in the print statement by default."
   ]
  },
  {
   "cell_type": "code",
   "execution_count": null,
   "metadata": {},
   "outputs": [],
   "source": [
    "number_of_bases = 0\n",
    "\n"
   ]
  },
  {
   "cell_type": "markdown",
   "metadata": {},
   "source": [
    "### Exercise"
   ]
  },
  {
   "cell_type": "markdown",
   "metadata": {},
   "source": [
    "Note also that finding the length of a string is such a common operation that Python actually has a built-in function to do it called len( )\n",
    "\n",
    "Can you use len( ) to get the length of DNAseq?"
   ]
  },
  {
   "cell_type": "code",
   "execution_count": null,
   "metadata": {},
   "outputs": [],
   "source": []
  },
  {
   "cell_type": "markdown",
   "metadata": {},
   "source": [
    "len( ) is much faster than any function we could write ourselves, and much easier to read than a two-line loop; it will also give us the length of many other things that we haven’t met yet, so we should always use it when we can."
   ]
  },
  {
   "cell_type": "markdown",
   "metadata": {},
   "source": [
    "### How do we iterate over numbers?\n",
    "Python has a built-in function called range that creates a list of numbers. Range can accept 1-3 parameters. \n",
    "- If one parameter is input, range creates an array of that length, starting at zero and incrementing by 1. \n",
    "- If 2 parameters are input, range starts at the first and ends at the second, incrementing by one. \n",
    "- If range is passed 3 parameters, it stars at the first one, ends at the second one, and increments by the third one."
   ]
  },
  {
   "cell_type": "code",
   "execution_count": 3,
   "metadata": {},
   "outputs": [
    {
     "data": {
      "text/plain": [
       "range(0, 3)"
      ]
     },
     "execution_count": 3,
     "metadata": {},
     "output_type": "execute_result"
    }
   ],
   "source": []
  },
  {
   "cell_type": "code",
   "execution_count": null,
   "metadata": {},
   "outputs": [],
   "source": []
  },
  {
   "cell_type": "code",
   "execution_count": null,
   "metadata": {},
   "outputs": [],
   "source": []
  },
  {
   "cell_type": "markdown",
   "metadata": {},
   "source": [
    "*NOTE which numbers are included and which are excluded!*"
   ]
  },
  {
   "cell_type": "code",
   "execution_count": null,
   "metadata": {},
   "outputs": [],
   "source": []
  },
  {
   "cell_type": "markdown",
   "metadata": {},
   "source": [
    "### Exercise\n",
    "Write a loop that prints all the even numbers in the range between 1 and 10 (inclusive)"
   ]
  },
  {
   "cell_type": "code",
   "execution_count": null,
   "metadata": {},
   "outputs": [],
   "source": []
  },
  {
   "cell_type": "markdown",
   "metadata": {},
   "source": [
    "### Solution\n"
   ]
  },
  {
   "cell_type": "code",
   "execution_count": null,
   "metadata": {},
   "outputs": [],
   "source": []
  },
  {
   "cell_type": "markdown",
   "metadata": {},
   "source": [
    "Using variables we can make our loop very generic and flexible"
   ]
  },
  {
   "cell_type": "code",
   "execution_count": null,
   "metadata": {},
   "outputs": [],
   "source": [
    "start, end = 1, 10\n"
   ]
  },
  {
   "cell_type": "markdown",
   "metadata": {},
   "source": [
    "*NOTE, I have assigned two variables to two numbers on one line, using a comma*"
   ]
  },
  {
   "cell_type": "markdown",
   "metadata": {},
   "source": [
    "### Subscripting\n",
    "Remember. You can use indexes to subset strings. We used this in the initial examples above."
   ]
  },
  {
   "cell_type": "code",
   "execution_count": 5,
   "metadata": {},
   "outputs": [
    {
     "data": {
      "text/plain": [
       "'atgtctaacattggccataccccgtatacccatgcgaaccatattggccattaa'"
      ]
     },
     "execution_count": 5,
     "metadata": {},
     "output_type": "execute_result"
    }
   ],
   "source": [
    "DNAseq"
   ]
  },
  {
   "cell_type": "code",
   "execution_count": null,
   "metadata": {},
   "outputs": [],
   "source": []
  },
  {
   "cell_type": "code",
   "execution_count": null,
   "metadata": {},
   "outputs": [],
   "source": []
  },
  {
   "cell_type": "markdown",
   "metadata": {},
   "source": [
    "You can use subsetting to print out all the first bases of all codons."
   ]
  },
  {
   "cell_type": "code",
   "execution_count": null,
   "metadata": {},
   "outputs": [],
   "source": []
  },
  {
   "cell_type": "markdown",
   "metadata": {},
   "source": [
    "### Exercise\n",
    "Write a loop that prints all the codons (non-overlapping 3-mers) of our variable DNAseq"
   ]
  },
  {
   "cell_type": "code",
   "execution_count": null,
   "metadata": {},
   "outputs": [],
   "source": [
    "## Hint use your string slicing DNAseq[], how could you slice more letters?"
   ]
  },
  {
   "cell_type": "markdown",
   "metadata": {},
   "source": [
    "### Solution"
   ]
  },
  {
   "cell_type": "code",
   "execution_count": null,
   "metadata": {},
   "outputs": [],
   "source": []
  },
  {
   "cell_type": "code",
   "execution_count": null,
   "metadata": {},
   "outputs": [],
   "source": []
  },
  {
   "cell_type": "markdown",
   "metadata": {},
   "source": [
    "## Control flow - more ways to affect the order in which statements run\n",
    "\n",
    "So far we've seen \"for\" loops in both shell programs and a few of our Python examples.\n",
    "\n",
    "There are a few other \"control flow\" statements that affect the order in which statements run.\n",
    "\n",
    "We'll start first with the \"if statement\" ... and its variants."
   ]
  },
  {
   "cell_type": "code",
   "execution_count": null,
   "metadata": {},
   "outputs": [],
   "source": [
    "## Using if\n",
    "x = 5\n",
    "\n",
    "print(\"step 1\")\n",
    "if x < 10:\n",
    "    print(\"x is small ... just\", x)"
   ]
  },
  {
   "cell_type": "code",
   "execution_count": null,
   "metadata": {},
   "outputs": [],
   "source": [
    "## Using multiple ifs\n"
   ]
  },
  {
   "cell_type": "code",
   "execution_count": null,
   "metadata": {},
   "outputs": [],
   "source": [
    "## if else\n"
   ]
  },
  {
   "cell_type": "markdown",
   "metadata": {},
   "source": [
    "An \"if statement\" can be quite complex.\n",
    "\n",
    "Note the use of \"`elif`\" below, which means \"else if\""
   ]
  },
  {
   "cell_type": "code",
   "execution_count": null,
   "metadata": {},
   "outputs": [],
   "source": [
    "## elif \n",
    "x = 11\n",
    "\n",
    "if x < 10:\n",
    "    print(\"x is small ... just\", x)\n"
   ]
  },
  {
   "cell_type": "markdown",
   "metadata": {},
   "source": [
    "Multiple conditions can be tested in the same `if`-statement. You can use \"`and`\" if both predicates need to be true, or \"`or`\" if only one of them needs to be true."
   ]
  },
  {
   "cell_type": "code",
   "execution_count": null,
   "metadata": {},
   "outputs": [],
   "source": [
    "## multiple conditions with AND\n",
    "x=13\n",
    "\n",
    "if x < 10:\n",
    "    print(\"x is small ... just\", x)\n"
   ]
  },
  {
   "cell_type": "code",
   "execution_count": null,
   "metadata": {},
   "outputs": [],
   "source": [
    "## multiple conditions with OR\n",
    "x=30\n"
   ]
  },
  {
   "cell_type": "markdown",
   "metadata": {},
   "source": [
    "Statements can be nested in other complex statements. So we can put an `if`-statement inside a `for`-statement, as follows."
   ]
  },
  {
   "cell_type": "code",
   "execution_count": null,
   "metadata": {},
   "outputs": [],
   "source": [
    "for i in range(8, 15):\n",
    "    if i < 10:\n",
    "        print(i, \"is smaller.\")\n"
   ]
  },
  {
   "cell_type": "markdown",
   "metadata": {},
   "source": [
    "We can also use loops to count how often the base 'a' occurs in our variable DNAseq."
   ]
  },
  {
   "cell_type": "code",
   "execution_count": null,
   "metadata": {},
   "outputs": [],
   "source": [
    "a_count = 0\n",
    "\n",
    "for base in DNAseq:\n",
    "    ##start conditional statement\n",
    "    \n",
    "        ## use python shortcut += to add and assign a varialbe at the same time\n",
    "        \n",
    "print('We have the following base counts:')\n",
    "print('a:', a_count)    "
   ]
  },
  {
   "cell_type": "markdown",
   "metadata": {},
   "source": [
    "### Exercise\n",
    "What are the counts of each regular base [a, t, c, g] in DNAseq?"
   ]
  },
  {
   "cell_type": "code",
   "execution_count": null,
   "metadata": {},
   "outputs": [],
   "source": [
    "## extra cell to play with "
   ]
  },
  {
   "cell_type": "code",
   "execution_count": null,
   "metadata": {},
   "outputs": [],
   "source": [
    "a_count = 0\n",
    "t_count = 0\n",
    "c_count = 0\n",
    "g_count = 0\n",
    "\n",
    "for base in DNAseq:\n",
    "    ###add your loop here to count the number of a's, t's, c's and g's\n",
    "\n",
    "        \n",
    "print('We have the following base counts:')\n",
    "print('a:', a_count)\n",
    "print('t:', t_count)\n",
    "print('c:', c_count)\n",
    "print('g:', g_count)   "
   ]
  },
  {
   "cell_type": "markdown",
   "metadata": {},
   "source": [
    "### Now that we have wrote this really awesome loop...we're going to show you how python could have done this for you...faster\n",
    "\n",
    "#### Object Methods (a.k.a. functions attached to objects)\n",
    "\n",
    "You can also perform certain operations on objects, these are called methods (sometimes still called \"functions\"). You can use an object method in a similar way to attribute by typeing the **objectname.method( )**  \n",
    "(NOTE: We can tell this is a method because of the **( )**!!)\n",
    "\n",
    "We can use the built-in function **help( )** to learn more about a method, BUT if you want help you need to leavet the paretheses off the method **help(objectname.method)**"
   ]
  },
  {
   "cell_type": "code",
   "execution_count": null,
   "metadata": {},
   "outputs": [],
   "source": [
    "help(DNAseq.count)"
   ]
  },
  {
   "cell_type": "code",
   "execution_count": null,
   "metadata": {},
   "outputs": [],
   "source": []
  },
  {
   "cell_type": "code",
   "execution_count": null,
   "metadata": {},
   "outputs": [],
   "source": []
  },
  {
   "cell_type": "code",
   "execution_count": null,
   "metadata": {},
   "outputs": [],
   "source": []
  },
  {
   "cell_type": "code",
   "execution_count": null,
   "metadata": {},
   "outputs": [],
   "source": []
  },
  {
   "cell_type": "markdown",
   "metadata": {},
   "source": [
    "## Data structures\n",
    "\n",
    "### Lists, sets, and dictionaries\n",
    "\n",
    "Python has a set of standard 'containers' were you can store information in. Each data structure has its purpose and advantages.\n"
   ]
  },
  {
   "cell_type": "markdown",
   "metadata": {},
   "source": [
    "### Lists\n",
    "\n",
    "Lists are ordered sequences of elements. Each element or value that is inside of a list is called an item. Just as strings are defined as characters between quotes, lists are defined by having values between square brackets []. \n",
    "\n",
    "For example, codons within DNA sequence could be stored in a list of 3-mers."
   ]
  },
  {
   "cell_type": "code",
   "execution_count": null,
   "metadata": {},
   "outputs": [],
   "source": [
    "DNAseq"
   ]
  },
  {
   "cell_type": "code",
   "execution_count": null,
   "metadata": {},
   "outputs": [],
   "source": [
    "### initially you can copy and paste the codons over and make a list\n",
    "DNAseq_codons = []"
   ]
  },
  {
   "cell_type": "markdown",
   "metadata": {},
   "source": [
    "We can also make a list more easily by looping over the string."
   ]
  },
  {
   "cell_type": "code",
   "execution_count": null,
   "metadata": {},
   "outputs": [],
   "source": [
    "DNAseq_codons = []\n",
    "\n",
    "## Use a for loop on a range object to extract codons\n",
    "\n",
    "\n",
    "print(DNAseq_codons)"
   ]
  },
  {
   "cell_type": "markdown",
   "metadata": {},
   "source": [
    "### Lists are\n",
    "* subscriptable  (i.e. you can access the elements with [ ]\n",
    "* mutable (i.e. they can be altered without making a new object)"
   ]
  },
  {
   "cell_type": "code",
   "execution_count": null,
   "metadata": {},
   "outputs": [],
   "source": [
    "## subscript or slice my list\n"
   ]
  },
  {
   "cell_type": "code",
   "execution_count": null,
   "metadata": {},
   "outputs": [],
   "source": [
    "## mutate/alter my list\n"
   ]
  },
  {
   "cell_type": "code",
   "execution_count": null,
   "metadata": {},
   "outputs": [],
   "source": [
    "## look at the changes\n"
   ]
  },
  {
   "cell_type": "markdown",
   "metadata": {},
   "source": [
    "### Common Methods for Lists"
   ]
  },
  {
   "cell_type": "code",
   "execution_count": null,
   "metadata": {},
   "outputs": [],
   "source": [
    "## Use tab to look at what methods are available\n"
   ]
  },
  {
   "cell_type": "code",
   "execution_count": null,
   "metadata": {},
   "outputs": [],
   "source": []
  },
  {
   "cell_type": "code",
   "execution_count": null,
   "metadata": {},
   "outputs": [],
   "source": []
  },
  {
   "cell_type": "code",
   "execution_count": null,
   "metadata": {},
   "outputs": [],
   "source": []
  },
  {
   "cell_type": "code",
   "execution_count": null,
   "metadata": {},
   "outputs": [],
   "source": []
  },
  {
   "cell_type": "markdown",
   "metadata": {},
   "source": [
    "### Sets\n",
    "\n",
    "Sets are unordered collection of items where each item occurs only once. It has no duplicated elements."
   ]
  },
  {
   "cell_type": "code",
   "execution_count": null,
   "metadata": {},
   "outputs": [],
   "source": [
    "print(DNAseq_codons)\n",
    "type(DNAseq_codons)"
   ]
  },
  {
   "cell_type": "code",
   "execution_count": null,
   "metadata": {},
   "outputs": [],
   "source": [
    "## Create a set with set()\n",
    "set(DNAseq_codons)"
   ]
  },
  {
   "cell_type": "code",
   "execution_count": null,
   "metadata": {},
   "outputs": [],
   "source": [
    "## Sets have no order so they are NOT indexable/sliceable\n",
    "set[0]"
   ]
  },
  {
   "cell_type": "markdown",
   "metadata": {},
   "source": [
    "### Sets are\n",
    "* not subscriptable (i.e. you cannot do set[0]) because sets have no order)\n",
    "* mutable (There exsits a special type of set called a \"frozen set\" which is immutable)\n",
    "\n",
    "Because sets cannot have multiple occurrences of the same element, it makes sets highly useful to efficiently remove duplicate values from a list and to perform common math operations like unions and intersections."
   ]
  },
  {
   "cell_type": "markdown",
   "metadata": {},
   "source": [
    "### Common Methods for Sets"
   ]
  },
  {
   "cell_type": "code",
   "execution_count": null,
   "metadata": {},
   "outputs": [],
   "source": [
    "## create a set object\n"
   ]
  },
  {
   "cell_type": "code",
   "execution_count": null,
   "metadata": {},
   "outputs": [],
   "source": [
    "## How many things are in my set object\n"
   ]
  },
  {
   "cell_type": "code",
   "execution_count": null,
   "metadata": {},
   "outputs": [],
   "source": [
    "## Look at set object\n"
   ]
  },
  {
   "cell_type": "code",
   "execution_count": null,
   "metadata": {},
   "outputs": [],
   "source": [
    "## Add a new value to my set\n"
   ]
  },
  {
   "cell_type": "code",
   "execution_count": null,
   "metadata": {},
   "outputs": [],
   "source": [
    "## Look at len(set) did I successfully add a value?\n"
   ]
  },
  {
   "cell_type": "code",
   "execution_count": null,
   "metadata": {},
   "outputs": [],
   "source": [
    "## Create a new set with two objects that are in set 1 and one new object\n",
    "codon_set2 = set([\"aac\",\"att\",\"gtt\"])"
   ]
  },
  {
   "cell_type": "code",
   "execution_count": null,
   "metadata": {},
   "outputs": [],
   "source": []
  },
  {
   "cell_type": "code",
   "execution_count": null,
   "metadata": {},
   "outputs": [],
   "source": []
  },
  {
   "cell_type": "code",
   "execution_count": null,
   "metadata": {},
   "outputs": [],
   "source": []
  },
  {
   "cell_type": "markdown",
   "metadata": {},
   "source": [
    "### Dictionaries\n",
    "\n",
    "Dictionaries are (unordered) containers of key:value pairs where each key can only occur once.\n",
    "\n",
    "They are one of most useful Python data structures. Looking up elements in a dictionary is really fast and there are lots of built-in functions to use and manipulate dictionaries."
   ]
  },
  {
   "cell_type": "markdown",
   "metadata": {},
   "source": [
    "We can use a dictionary to reverse complement a DNA sequence."
   ]
  },
  {
   "cell_type": "code",
   "execution_count": null,
   "metadata": {},
   "outputs": [],
   "source": [
    "## create a dictionary in two ways\n",
    "## dict_name = {'key':value}\n",
    "## dict_name = dict(key1= value1,key2 = value2, key3 = value3)\n",
    "\n",
    "age_dict = dict(alex = 5, \n",
    "                tim = 7, \n",
    "                alexa = 5, \n",
    "                sandy = 8)\n"
   ]
  },
  {
   "cell_type": "code",
   "execution_count": null,
   "metadata": {},
   "outputs": [],
   "source": [
    "## What is the value of the key \"tim\""
   ]
  },
  {
   "cell_type": "code",
   "execution_count": null,
   "metadata": {},
   "outputs": [],
   "source": [
    "## Add a new value to my dictionary\n"
   ]
  },
  {
   "cell_type": "code",
   "execution_count": null,
   "metadata": {},
   "outputs": [],
   "source": [
    "base_pair_dict = {'a' : 't', \n",
    "                  't' : 'a', \n",
    "                  'g' : 'c', \n",
    "                  'c' : 'g'}"
   ]
  },
  {
   "cell_type": "code",
   "execution_count": null,
   "metadata": {},
   "outputs": [],
   "source": [
    "# look at all values of dictionary base_pair_dict\n"
   ]
  },
  {
   "cell_type": "code",
   "execution_count": null,
   "metadata": {},
   "outputs": [],
   "source": [
    "# look at the value of the key \"g\"\n"
   ]
  },
  {
   "cell_type": "code",
   "execution_count": null,
   "metadata": {},
   "outputs": [],
   "source": [
    "###so now reverse complement our DNA sequence\n",
    "\n",
    "reverse_comp_DNAseq = ''\n",
    "\n",
    "for base in DNAseq[::-1]: ##write a for loop here that writes the RC of of DNAseq to the empty string reverse_compDNAseq\n",
    "    ##look up the RC of base in your dictionary\n",
    "    ## write the value of RC to your empty string reverse_comp_DNAseq\n",
    "    \n",
    "print(reverse_comp_DNAseq, 'is the reverse complement of', DNAseq)"
   ]
  },
  {
   "cell_type": "markdown",
   "metadata": {},
   "source": [
    "### Dictionaries are\n",
    "* not subscriptable (i.e. you cannot do bais_pair_dict[0]) because dictionaries have no order)\n",
    "* mutable (you can alter the value of a key after it has been created, or add new keys)\n",
    "\n",
    "Dictionaires can only have a given key once BUT the values of those keys can be the same"
   ]
  },
  {
   "cell_type": "markdown",
   "metadata": {},
   "source": [
    "### Common Methods for Dictionairies"
   ]
  },
  {
   "cell_type": "code",
   "execution_count": null,
   "metadata": {},
   "outputs": [],
   "source": []
  },
  {
   "cell_type": "code",
   "execution_count": null,
   "metadata": {},
   "outputs": [],
   "source": []
  },
  {
   "cell_type": "code",
   "execution_count": null,
   "metadata": {},
   "outputs": [],
   "source": []
  },
  {
   "cell_type": "code",
   "execution_count": null,
   "metadata": {},
   "outputs": [],
   "source": []
  },
  {
   "cell_type": "code",
   "execution_count": null,
   "metadata": {},
   "outputs": [],
   "source": []
  },
  {
   "cell_type": "code",
   "execution_count": null,
   "metadata": {},
   "outputs": [],
   "source": []
  },
  {
   "cell_type": "markdown",
   "metadata": {},
   "source": [
    "### Exercise: decode the hidden message in the DNA sequences\n",
    "\n",
    "Use the coding table dictonary to translate your DNAseq into amino acids and decode the hidden message!!!!  \n",
    "Hint you can convert a string to upper case with the function: x.upper(), where x is your string variable.\n"
   ]
  },
  {
   "cell_type": "code",
   "execution_count": null,
   "metadata": {},
   "outputs": [],
   "source": [
    "DNAseq = 'atgtataacattggccataccccgtatacccatgcgaaccatattggccattaa'\n",
    "DNAseq2 = 'ccgtatacccatgcgaacatggcgaaagaaagctttgcgagcacctaa'"
   ]
  },
  {
   "cell_type": "code",
   "execution_count": null,
   "metadata": {},
   "outputs": [],
   "source": [
    "coding_table_dict = { \n",
    "        'ATA':'I', 'ATC':'I', 'ATT':'I', 'ATG':'M', \n",
    "        'ACA':'T', 'ACC':'T', 'ACG':'T', 'ACT':'T', \n",
    "        'AAC':'N', 'AAT':'N', 'AAA':'K', 'AAG':'K', \n",
    "        'AGC':'S', 'AGT':'S', 'AGA':'R', 'AGG':'R',                  \n",
    "        'CTA':'L', 'CTC':'L', 'CTG':'L', 'CTT':'L', \n",
    "        'CCA':'P', 'CCC':'P', 'CCG':'P', 'CCT':'P', \n",
    "        'CAC':'H', 'CAT':'H', 'CAA':'Q', 'CAG':'Q', \n",
    "        'CGA':'R', 'CGC':'R', 'CGG':'R', 'CGT':'R', \n",
    "        'GTA':'V', 'GTC':'V', 'GTG':'V', 'GTT':'V', \n",
    "        'GCA':'A', 'GCC':'A', 'GCG':'A', 'GCT':'A', \n",
    "        'GAC':'D', 'GAT':'D', 'GAA':'E', 'GAG':'E', \n",
    "        'GGA':'G', 'GGC':'G', 'GGG':'G', 'GGT':'G', \n",
    "        'TCA':'S', 'TCC':'S', 'TCG':'S', 'TCT':'S', \n",
    "        'TTC':'F', 'TTT':'F', 'TTA':'L', 'TTG':'L', \n",
    "        'TAC':'Y', 'TAT':'Y', 'TAA':'_', 'TAG':'_', \n",
    "        'TGC':'C', 'TGT':'C', 'TGA':'_', 'TGG':'W', \n",
    "    } "
   ]
  },
  {
   "cell_type": "markdown",
   "metadata": {},
   "source": [
    "### HINT\n",
    "You need to convert our DNAseq to UPPERCASE letters\n",
    "Perhaps there is a handy method to do that ???"
   ]
  },
  {
   "cell_type": "code",
   "execution_count": null,
   "metadata": {},
   "outputs": [],
   "source": [
    "\"atg\".upper()"
   ]
  },
  {
   "cell_type": "markdown",
   "metadata": {},
   "source": [
    "### Solution"
   ]
  },
  {
   "cell_type": "code",
   "execution_count": null,
   "metadata": {},
   "outputs": [],
   "source": [
    "hidden_message = ''\n",
    "\n",
    "for i in range(0, len(DNAseq), 3):\n",
    "    ## slice DNAseq and keep your codon\n",
    "    ## look up which AA is encoded by your codon\n",
    "    ## write your AA to your hidden_message string\n",
    "\n",
    "print(\"This is the hidden message in\", DNAseq, ':\\n', hidden_message)"
   ]
  },
  {
   "cell_type": "code",
   "execution_count": null,
   "metadata": {},
   "outputs": [],
   "source": [
    "hidden_message = ''\n",
    "\n",
    "for i in range(0, len(DNAseq2), 3):\n",
    "\n",
    "\n",
    "print(\"This is the hidden message in\", DNAseq2, ':\\n',hidden_message)"
   ]
  }
 ],
 "metadata": {
  "kernelspec": {
   "display_name": "Python 3",
   "language": "python",
   "name": "python3"
  },
  "language_info": {
   "codemirror_mode": {
    "name": "ipython",
    "version": 3
   },
   "file_extension": ".py",
   "mimetype": "text/x-python",
   "name": "python",
   "nbconvert_exporter": "python",
   "pygments_lexer": "ipython3",
   "version": "3.8.5"
  }
 },
 "nbformat": 4,
 "nbformat_minor": 1
}
