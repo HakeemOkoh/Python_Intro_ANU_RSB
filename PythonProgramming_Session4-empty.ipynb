{
 "cells": [
  {
   "cell_type": "markdown",
   "metadata": {},
   "source": [
    "# Python introduction - session 4 \n",
    "## Learning about the real power of python with modules\n",
    "## Biopython, pandas, matplotlib and bedtools wrapped into the jupyter\n",
    "\n",
    "If you get stuck in an endless loop hit the **\"STOP\" button (black square)** above or our good friend from bash, **ctrl+c**  \n",
    "You know you are stuck in a loop if you see **In \\[\\*\\]:** forever"
   ]
  },
  {
   "cell_type": "markdown",
   "metadata": {},
   "source": [
    "### Installation reminder\n",
    "\n",
    "If you want to install this whole tool stack on your own machine we recommend the following.\n",
    "\n",
    "#### Windows\n",
    "\n",
    "* Install the [Ubuntu subsystem](https://docs.microsoft.com/en-us/windows/wsl/install-win10)\n",
    "* Install the Linux version of [Anaconda](https://www.anaconda.com/products/individual) into your subsystem.\n",
    "* Setup [Bioconda](https://bioconda.github.io/) in your subsystem\n",
    "* Install programs and modules like...\n",
    "\n",
    "``conda install biopython``\n",
    "\n",
    "#### Mac\n",
    "\n",
    "* Install the Mac version of [Anaconda](https://www.anaconda.com/products/individual) on your command line/terminal.\n",
    "* Setup [Bioconda](https://bioconda.github.io/) on your command line/terminal.\n",
    "* Install programs and modules like...\n",
    "\n",
    "``conda install biopython``"
   ]
  },
  {
   "cell_type": "markdown",
   "metadata": {},
   "source": [
    "### Objectives\n",
    "\n",
    "* Interogate larger dataset using biopython and pandas.\n",
    "* Use pandas to combine larger datasets.\n",
    "* Plot expression profiles across multiple condiditions in Arabidopsis.\n",
    "* Extract promoter sequences of highly expressed genes.\n",
    "* Analyze the composition of promoter sequences to identify motifs."
   ]
  },
  {
   "cell_type": "markdown",
   "metadata": {},
   "source": [
    "## Reminder: Python objects are like cats and dogs"
   ]
  },
  {
   "cell_type": "code",
   "execution_count": null,
   "metadata": {},
   "outputs": [],
   "source": [
    "%matplotlib inline\n",
    "from IPython.display import Image"
   ]
  },
  {
   "cell_type": "code",
   "execution_count": null,
   "metadata": {},
   "outputs": [],
   "source": [
    "Image(filename='./figures/dogs_as_objects.jpg')"
   ]
  },
  {
   "cell_type": "markdown",
   "metadata": {},
   "source": [
    "### Intro to [Biopython](https://biopython.org/wiki/Documentation)\n",
    "\n",
    "* We will download the complete [Arabidopsis](https://www.arabidopsis.org/index.jsp) coding sequences.\n",
    "* We will read them all in at once.\n",
    "* We will translate them all into protein sequences.\n",
    "* We will calcualte their pi values.\n",
    "* We will do some basic plotting."
   ]
  },
  {
   "cell_type": "markdown",
   "metadata": {},
   "source": [
    "#### Let's download sequences from [here](https://www.arabidopsis.org/download/index-auto.jsp?dir=%2Fdownload_files%2FGenes%2FAraport11_genome_release%2FAraport11_blastsets)"
   ]
  },
  {
   "cell_type": "code",
   "execution_count": null,
   "metadata": {},
   "outputs": [],
   "source": [
    "!wget https://www.arabidopsis.org/download_files/Genes/Araport11_genome_release/Araport11_blastsets/Araport11_genes.201606.cds.fasta.gz"
   ]
  },
  {
   "cell_type": "code",
   "execution_count": null,
   "metadata": {},
   "outputs": [],
   "source": [
    "!gunzip Araport11_genes.201606.cds.fasta.gz"
   ]
  },
  {
   "cell_type": "code",
   "execution_count": null,
   "metadata": {},
   "outputs": [],
   "source": [
    "!head Araport11_genes.201606.cds.fasta"
   ]
  },
  {
   "cell_type": "markdown",
   "metadata": {},
   "source": [
    "## Let's reconstruct out lists from last time for all CDS in Arabidopsis"
   ]
  },
  {
   "cell_type": "code",
   "execution_count": null,
   "metadata": {},
   "outputs": [],
   "source": [
    "from Bio import SeqIO\n",
    "from Bio.SeqUtils import IsoelectricPoint as IP\n",
    "import pandas as pd\n",
    "import matplotlib.pyplot as plt"
   ]
  },
  {
   "cell_type": "code",
   "execution_count": null,
   "metadata": {},
   "outputs": [],
   "source": [
    "filename = 'Araport11_genes.201606.cds.fasta'"
   ]
  },
  {
   "cell_type": "code",
   "execution_count": null,
   "metadata": {},
   "outputs": [],
   "source": [
    "## Read in all CDS as list (ordered!)\n",
    "arabidopsis_cds = []\n",
    "for seq in SeqIO.parse(filename, 'fasta'):\n",
    "    arabidopsis_cds.append(seq)    "
   ]
  },
  {
   "cell_type": "code",
   "execution_count": null,
   "metadata": {},
   "outputs": [],
   "source": [
    "###Let's make a cds length list and an ID list\n",
    "cds_length = []\n",
    "ID_list = []\n",
    "for cds in arabidopsis_cds:\n",
    "    cds_length.append(len(cds.seq))\n",
    "    ID_list.append(cds.id)"
   ]
  },
  {
   "cell_type": "code",
   "execution_count": null,
   "metadata": {},
   "outputs": [],
   "source": [
    "###Let's make a protein list and a protein length list\n",
    "arabidopsis_proteins = []\n",
    "protein_length = []\n",
    "for cds in arabidopsis_cds:\n",
    "    tmp_protein = cds.translate() #translate sequence\n",
    "    tmp_protein.id = cds.id #add id to tmp_protein object\n",
    "    tmp_protein.name = cds.name #add name to tmp_protein object \n",
    "    tmp_protein.description = cds.description #add description to tmp_protein object\n",
    "    arabidopsis_proteins.append(tmp_protein) #store it\n",
    "    protein_length.append(len(tmp_protein)) #store length"
   ]
  },
  {
   "cell_type": "code",
   "execution_count": null,
   "metadata": {},
   "outputs": [],
   "source": [
    "protein_pi_values = []\n",
    "for protein in arabidopsis_proteins:\n",
    "    tmp_protein = IP.IsoelectricPoint(protein.seq) #generate a Isoelectric point object to be able to calcuate pi values\n",
    "    tmp_protein_pi = tmp_protein.pi() #calculate pi value\n",
    "    protein_pi_values.append(tmp_protein_pi)"
   ]
  },
  {
   "cell_type": "markdown",
   "metadata": {},
   "source": [
    "## Exercise I\n",
    "\n",
    "* Make a dictionary called ara_dict\n",
    "* the keys are 'CDS_ID', 'CDS_length', 'protein_length', 'protein_pi_value'\n",
    "* the values are the corresponding lists we generated above"
   ]
  },
  {
   "cell_type": "code",
   "execution_count": null,
   "metadata": {},
   "outputs": [],
   "source": [
    "ara_dict = {}\n"
   ]
  },
  {
   "cell_type": "markdown",
   "metadata": {},
   "source": [
    "### Intro to [pandas](https://pandas.pydata.org/)\n",
    "\n",
    "pandas is a fast, powerful, flexible and easy to use open source data analysis and manipulation tool,\n",
    "built on top of the Python programming language. \n",
    "\n",
    "* We will generate a dataframe (Table) from our own input data\n",
    "* We will subset the dataframe to find the longest and shortes CDS in Arabidopsis\n",
    "* We will caclulate the mean, median, and standard deviation for our dataset\n",
    "* We will do some basic plotting.\n",
    "* We will load some public expression datasets.\n",
    "* We will interogate this dataset.\n",
    "* We will pull out the promoters of the most highly expressed genes and look for a specific hormone response elements."
   ]
  },
  {
   "cell_type": "markdown",
   "metadata": {},
   "source": [
    "#### The two main objects in pandas \n",
    "\n",
    "* Series to store one dimensional data\n",
    "* Dataframe to store two dimnesional data\n",
    "\n",
    "See for a quick intro [here](https://pandas.pydata.org/pandas-docs/stable/getting_started/10min.html)"
   ]
  },
  {
   "cell_type": "code",
   "execution_count": null,
   "metadata": {},
   "outputs": [],
   "source": [
    "ara_df = "
   ]
  },
  {
   "cell_type": "code",
   "execution_count": null,
   "metadata": {},
   "outputs": [],
   "source": [
    "ara_df"
   ]
  },
  {
   "cell_type": "code",
   "execution_count": null,
   "metadata": {},
   "outputs": [],
   "source": [
    "## look at the top\n"
   ]
  },
  {
   "cell_type": "code",
   "execution_count": null,
   "metadata": {},
   "outputs": [],
   "source": [
    "## look at the bottom\n"
   ]
  },
  {
   "cell_type": "code",
   "execution_count": null,
   "metadata": {},
   "outputs": [],
   "source": [
    "## Get the column index\n"
   ]
  },
  {
   "cell_type": "code",
   "execution_count": null,
   "metadata": {},
   "outputs": [],
   "source": [
    "## Get row index\n"
   ]
  },
  {
   "cell_type": "code",
   "execution_count": null,
   "metadata": {},
   "outputs": [],
   "source": [
    "## Get specific columns\n"
   ]
  },
  {
   "cell_type": "code",
   "execution_count": null,
   "metadata": {},
   "outputs": [],
   "source": [
    "## Get a gene id column for later use\n",
    "ara_df['Gene_ID'] = ara_df['CDS_ID'].apply(lambda x: x.split('.')[0])"
   ]
  },
  {
   "cell_type": "code",
   "execution_count": null,
   "metadata": {},
   "outputs": [],
   "source": [
    "ara_df['Gene_ID']"
   ]
  },
  {
   "cell_type": "code",
   "execution_count": null,
   "metadata": {},
   "outputs": [],
   "source": [
    "## Reset the index\n"
   ]
  },
  {
   "cell_type": "code",
   "execution_count": null,
   "metadata": {},
   "outputs": [],
   "source": [
    "## Drop a column\n"
   ]
  },
  {
   "cell_type": "code",
   "execution_count": null,
   "metadata": {},
   "outputs": [],
   "source": [
    "## Drop a column inplace\n"
   ]
  },
  {
   "cell_type": "markdown",
   "metadata": {},
   "source": [
    "### A word about pandas axis"
   ]
  },
  {
   "cell_type": "code",
   "execution_count": null,
   "metadata": {},
   "outputs": [],
   "source": [
    "Image(filename='./figures/axis_pandas.jpg')"
   ]
  },
  {
   "cell_type": "markdown",
   "metadata": {},
   "source": [
    "### Getting the mean, max, min, and such from a dataset"
   ]
  },
  {
   "cell_type": "code",
   "execution_count": null,
   "metadata": {},
   "outputs": [],
   "source": [
    "## maximum\n"
   ]
  },
  {
   "cell_type": "code",
   "execution_count": null,
   "metadata": {},
   "outputs": [],
   "source": [
    "## mean\n"
   ]
  },
  {
   "cell_type": "markdown",
   "metadata": {},
   "source": [
    "### Exercise II\n",
    "\n",
    "* Get the mean value of protein_length column\n",
    "* Get the max value of the protein_length column\n",
    "* Get the standard deviation of the protein lenght column\n",
    "* Get the mean value of the protein_pi_value column"
   ]
  },
  {
   "cell_type": "code",
   "execution_count": null,
   "metadata": {},
   "outputs": [],
   "source": []
  },
  {
   "cell_type": "markdown",
   "metadata": {},
   "source": [
    "### Plotting is your friend and build into pandas"
   ]
  },
  {
   "cell_type": "code",
   "execution_count": null,
   "metadata": {},
   "outputs": [],
   "source": [
    "##histogram plot of protein_pi_value\n"
   ]
  },
  {
   "cell_type": "code",
   "execution_count": null,
   "metadata": {},
   "outputs": [],
   "source": [
    "##histogram plot with horizontal line of the \n",
    "\n",
    "plt.axvline(ara_df['protein_pi_value'].mean(), c='r')\n",
    "plt.xlabel('PI value [pH]')"
   ]
  },
  {
   "cell_type": "markdown",
   "metadata": {},
   "source": [
    "## Always look at your distributions genome data is never?! normally distributed"
   ]
  },
  {
   "cell_type": "markdown",
   "metadata": {},
   "source": [
    "### Subsetting your data"
   ]
  },
  {
   "cell_type": "code",
   "execution_count": null,
   "metadata": {},
   "outputs": [],
   "source": [
    "## CDS that are longer than the mean\n"
   ]
  },
  {
   "cell_type": "code",
   "execution_count": null,
   "metadata": {},
   "outputs": [],
   "source": [
    "## Dataframe and Series have shapes\n"
   ]
  },
  {
   "cell_type": "code",
   "execution_count": null,
   "metadata": {},
   "outputs": [],
   "source": [
    "## Dataframe and Series have shapes\n"
   ]
  },
  {
   "cell_type": "code",
   "execution_count": null,
   "metadata": {},
   "outputs": [],
   "source": [
    "(ara_df['CDS_length'] > ara_df['CDS_length'].mean()).shape"
   ]
  },
  {
   "cell_type": "code",
   "execution_count": null,
   "metadata": {},
   "outputs": [],
   "source": [
    "## Because comparisons return the same shaped boolean series we can use them to subset dataframes\n"
   ]
  },
  {
   "cell_type": "code",
   "execution_count": null,
   "metadata": {},
   "outputs": [],
   "source": [
    "### We can also use boolean series to count\n"
   ]
  },
  {
   "cell_type": "markdown",
   "metadata": {},
   "source": [
    "### Exercise III\n",
    "\n",
    "* How many proteins are longer than 1000 aa.\n",
    "* How many CDS are longer than the mean plus two standard deviations.\n",
    "* What is the mean length of proteins longer than 2000 aa."
   ]
  },
  {
   "cell_type": "code",
   "execution_count": null,
   "metadata": {},
   "outputs": [],
   "source": []
  },
  {
   "cell_type": "markdown",
   "metadata": {},
   "source": [
    "### Let's look at some public Arabidopsis gene expression data after Auxin (a hormone) treatment\n",
    "\n",
    "The paper is about gene expression after two different hormone treatments in Arabidopsis. We will use this to learn more about pandas and to extract promoters in the next session.\n",
    "\n",
    "[Spatiotemporal Brassinosteroid Signaling and Antagonism with Auxin Pattern Stem Cell Dynamics in Arabidopsis Roots](https://www.sciencedirect.com/science/article/pii/S0960982215002158#mmc2) \n",
    "\n",
    "The basic treatments we are interested in are in the Columbia (WT) background:\n",
    "\n",
    "* Auxin alone.\n",
    "* Brassinosteroid alone.\n",
    "* Auxin and Brassinosteroid (but this wasn't really in the supplement).\n"
   ]
  },
  {
   "cell_type": "code",
   "execution_count": null,
   "metadata": {},
   "outputs": [],
   "source": [
    "Image('./figures/Expression_analysis.png')"
   ]
  },
  {
   "cell_type": "markdown",
   "metadata": {},
   "source": [
    "### This is how the data actually looks like"
   ]
  },
  {
   "cell_type": "code",
   "execution_count": null,
   "metadata": {},
   "outputs": [],
   "source": [
    "Image('figures/Excel_screenshot.png')"
   ]
  },
  {
   "cell_type": "markdown",
   "metadata": {},
   "source": [
    "### Let's read in this excel table into pandas"
   ]
  },
  {
   "cell_type": "code",
   "execution_count": null,
   "metadata": {},
   "outputs": [],
   "source": [
    "?pd.read_excel"
   ]
  },
  {
   "cell_type": "code",
   "execution_count": null,
   "metadata": {},
   "outputs": [],
   "source": [
    "## Excel file name\n",
    "excel_fn = 'datasets/1-s2.0-S0960982215002158-mmc2.xlsx'"
   ]
  },
  {
   "cell_type": "code",
   "execution_count": null,
   "metadata": {},
   "outputs": [],
   "source": [
    "### Read in excel file with specific spreadsheet and take care of excess row and index column\n",
    "excel_df = "
   ]
  },
  {
   "cell_type": "code",
   "execution_count": null,
   "metadata": {},
   "outputs": [],
   "source": [
    "###Let's look at it\n"
   ]
  },
  {
   "cell_type": "markdown",
   "metadata": {},
   "source": [
    "### Let's look into indexing of rows and columns"
   ]
  },
  {
   "cell_type": "code",
   "execution_count": null,
   "metadata": {},
   "outputs": [],
   "source": [
    "Image(filename='./figures/axis_pandas.jpg')"
   ]
  },
  {
   "cell_type": "code",
   "execution_count": null,
   "metadata": {},
   "outputs": [],
   "source": [
    "## Numerical indexing (exclusive [,)])\n"
   ]
  },
  {
   "cell_type": "code",
   "execution_count": null,
   "metadata": {},
   "outputs": [],
   "source": [
    "## Name indexing (inclusive [,])\n"
   ]
  },
  {
   "cell_type": "code",
   "execution_count": null,
   "metadata": {},
   "outputs": [],
   "source": [
    "## Name indexing (inclusive [,])\n"
   ]
  },
  {
   "cell_type": "code",
   "execution_count": null,
   "metadata": {},
   "outputs": [],
   "source": [
    "## Numerical indexing (exclusive [,)])\n"
   ]
  },
  {
   "cell_type": "code",
   "execution_count": null,
   "metadata": {},
   "outputs": [],
   "source": [
    "### Let's subset the dataframe to only contain the columns\n",
    "### 'Col+BL vs. Col', 'Col+IAA vs. Col', 'Computational_description'\n",
    "\n",
    "excel_df = "
   ]
  },
  {
   "cell_type": "code",
   "execution_count": null,
   "metadata": {},
   "outputs": [],
   "source": []
  },
  {
   "cell_type": "markdown",
   "metadata": {},
   "source": [
    "### Exercise V\n",
    "\n",
    "* What is the differential expression after IAA treatment of gene 'AT3G46810'\n",
    "* What is the maximal differential expression of BL treatment.\n",
    "* What is the BL expression of the 1493 gene."
   ]
  },
  {
   "cell_type": "code",
   "execution_count": null,
   "metadata": {},
   "outputs": [],
   "source": []
  },
  {
   "cell_type": "code",
   "execution_count": null,
   "metadata": {},
   "outputs": [],
   "source": [
    "###Double indexing \"and\"\n",
    "excel_df[(excel_df['Col+BL vs. Col'] > 5) & (excel_df['Col+IAA vs. Col'] > 5)]"
   ]
  },
  {
   "cell_type": "code",
   "execution_count": null,
   "metadata": {},
   "outputs": [],
   "source": [
    "###Double indexing \"or\"\n",
    "excel_df[(excel_df['Col+BL vs. Col'] > 5) | (excel_df['Col+IAA vs. Col'] > 5)]"
   ]
  },
  {
   "cell_type": "markdown",
   "metadata": {},
   "source": [
    "### Exercise VI\n",
    "\n",
    "* How many genes are upregulated at both conditions.\n",
    "* How many genes are upgregulated in one condition only.\n",
    "* Do you think the overlap or exclusion is significant and what test could you use to test for this.\n"
   ]
  },
  {
   "cell_type": "code",
   "execution_count": null,
   "metadata": {},
   "outputs": [],
   "source": []
  },
  {
   "cell_type": "code",
   "execution_count": null,
   "metadata": {},
   "outputs": [],
   "source": [
    "###Sort values\n"
   ]
  },
  {
   "cell_type": "code",
   "execution_count": null,
   "metadata": {},
   "outputs": [],
   "source": [
    "###Sort values inplace and descending\n"
   ]
  },
  {
   "cell_type": "code",
   "execution_count": null,
   "metadata": {},
   "outputs": [],
   "source": [
    "###let's look at the top 100 differentially expressed (>5) expressed genes after IAA treatment\n",
    "###that are also differentially expressed in BL conditions.\n",
    "sub_excel_df = "
   ]
  },
  {
   "cell_type": "code",
   "execution_count": null,
   "metadata": {},
   "outputs": [],
   "source": [
    "###Sort values\n",
    "sub_excel_df.plot.bar()"
   ]
  },
  {
   "cell_type": "markdown",
   "metadata": {},
   "source": [
    "### Let's explore the data a bit more and ask the questions like\n",
    "\n",
    "* What is the pi value distirubtion of BL upregulated genes.\n",
    "* What is the length distribution of IAA upregulated genes.\n",
    "* ....\n",
    "\n",
    "Remember both the ara_df and excel_df have the gene names as index"
   ]
  },
  {
   "cell_type": "code",
   "execution_count": null,
   "metadata": {},
   "outputs": [],
   "source": [
    "IAA_induced_index = "
   ]
  },
  {
   "cell_type": "code",
   "execution_count": null,
   "metadata": {},
   "outputs": [],
   "source": []
  },
  {
   "cell_type": "code",
   "execution_count": null,
   "metadata": {},
   "outputs": [],
   "source": []
  },
  {
   "cell_type": "code",
   "execution_count": null,
   "metadata": {},
   "outputs": [],
   "source": [
    "#ara_df.loc[IAA_induced_index,'protein_pi_value'].plot.kde(color='g', alpha=0.5)\n",
    "#ara_df['protein_pi_value'].plot.kde(color='b', alpha=0.5)"
   ]
  },
  {
   "cell_type": "code",
   "execution_count": null,
   "metadata": {},
   "outputs": [],
   "source": [
    "#ara_df.loc[IAA_induced_index,'protein_length'].plot.kde(color='g', alpha=0.5)\n",
    "#ara_df['protein_length'].plot.kde(color='b', alpha=0.5)"
   ]
  },
  {
   "cell_type": "code",
   "execution_count": null,
   "metadata": {},
   "outputs": [],
   "source": []
  }
 ],
 "metadata": {
  "kernelspec": {
   "display_name": "Python 3",
   "language": "python",
   "name": "python3"
  },
  "language_info": {
   "codemirror_mode": {
    "name": "ipython",
    "version": 3
   },
   "file_extension": ".py",
   "mimetype": "text/x-python",
   "name": "python",
   "nbconvert_exporter": "python",
   "pygments_lexer": "ipython3",
   "version": "3.7.1"
  }
 },
 "nbformat": 4,
 "nbformat_minor": 2
}
